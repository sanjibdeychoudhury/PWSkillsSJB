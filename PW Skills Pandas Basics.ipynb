{
 "cells": [
  {
   "cell_type": "markdown",
   "id": "d5ca91e3",
   "metadata": {},
   "source": [
    "# PW Skills Pandas Basic Assignment"
   ]
  },
  {
   "cell_type": "markdown",
   "id": "ff8b1fb1",
   "metadata": {},
   "source": [
    "## Question1:\n",
    "Create a Pandas Series that contains the following data: 4, 8, 15, 16, 23, and 42. Then, print the series.\n"
   ]
  },
  {
   "cell_type": "code",
   "execution_count": 1,
   "id": "e8f02b54",
   "metadata": {},
   "outputs": [
    {
     "data": {
      "text/html": [
       "<div>\n",
       "<style scoped>\n",
       "    .dataframe tbody tr th:only-of-type {\n",
       "        vertical-align: middle;\n",
       "    }\n",
       "\n",
       "    .dataframe tbody tr th {\n",
       "        vertical-align: top;\n",
       "    }\n",
       "\n",
       "    .dataframe thead th {\n",
       "        text-align: right;\n",
       "    }\n",
       "</style>\n",
       "<table border=\"1\" class=\"dataframe\">\n",
       "  <thead>\n",
       "    <tr style=\"text-align: right;\">\n",
       "      <th></th>\n",
       "      <th>0</th>\n",
       "    </tr>\n",
       "  </thead>\n",
       "  <tbody>\n",
       "    <tr>\n",
       "      <th>0</th>\n",
       "      <td>4</td>\n",
       "    </tr>\n",
       "    <tr>\n",
       "      <th>1</th>\n",
       "      <td>8</td>\n",
       "    </tr>\n",
       "    <tr>\n",
       "      <th>2</th>\n",
       "      <td>15</td>\n",
       "    </tr>\n",
       "    <tr>\n",
       "      <th>3</th>\n",
       "      <td>16</td>\n",
       "    </tr>\n",
       "    <tr>\n",
       "      <th>4</th>\n",
       "      <td>23</td>\n",
       "    </tr>\n",
       "    <tr>\n",
       "      <th>5</th>\n",
       "      <td>42</td>\n",
       "    </tr>\n",
       "  </tbody>\n",
       "</table>\n",
       "</div>"
      ],
      "text/plain": [
       "    0\n",
       "0   4\n",
       "1   8\n",
       "2  15\n",
       "3  16\n",
       "4  23\n",
       "5  42"
      ]
     },
     "execution_count": 1,
     "metadata": {},
     "output_type": "execute_result"
    }
   ],
   "source": [
    "import pandas as pd\n",
    "lst= [4,8,15,16,23,42]\n",
    "df=pd.DataFrame(lst)\n",
    "df"
   ]
  },
  {
   "cell_type": "markdown",
   "id": "4cd2917f",
   "metadata": {},
   "source": [
    "## Question 2:\n",
    "Create a variable of list type containing 10 elements in it, and apply pandas.Series function on the\n",
    "variable print it.\n"
   ]
  },
  {
   "cell_type": "code",
   "execution_count": 3,
   "id": "03867ed7",
   "metadata": {},
   "outputs": [
    {
     "data": {
      "text/html": [
       "<div>\n",
       "<style scoped>\n",
       "    .dataframe tbody tr th:only-of-type {\n",
       "        vertical-align: middle;\n",
       "    }\n",
       "\n",
       "    .dataframe tbody tr th {\n",
       "        vertical-align: top;\n",
       "    }\n",
       "\n",
       "    .dataframe thead th {\n",
       "        text-align: right;\n",
       "    }\n",
       "</style>\n",
       "<table border=\"1\" class=\"dataframe\">\n",
       "  <thead>\n",
       "    <tr style=\"text-align: right;\">\n",
       "      <th></th>\n",
       "      <th>0</th>\n",
       "    </tr>\n",
       "  </thead>\n",
       "  <tbody>\n",
       "    <tr>\n",
       "      <th>0</th>\n",
       "      <td>1</td>\n",
       "    </tr>\n",
       "    <tr>\n",
       "      <th>1</th>\n",
       "      <td>2</td>\n",
       "    </tr>\n",
       "    <tr>\n",
       "      <th>2</th>\n",
       "      <td>3</td>\n",
       "    </tr>\n",
       "    <tr>\n",
       "      <th>3</th>\n",
       "      <td>4</td>\n",
       "    </tr>\n",
       "    <tr>\n",
       "      <th>4</th>\n",
       "      <td>5</td>\n",
       "    </tr>\n",
       "    <tr>\n",
       "      <th>5</th>\n",
       "      <td>6</td>\n",
       "    </tr>\n",
       "    <tr>\n",
       "      <th>6</th>\n",
       "      <td>7</td>\n",
       "    </tr>\n",
       "    <tr>\n",
       "      <th>7</th>\n",
       "      <td>8</td>\n",
       "    </tr>\n",
       "    <tr>\n",
       "      <th>8</th>\n",
       "      <td>9</td>\n",
       "    </tr>\n",
       "    <tr>\n",
       "      <th>9</th>\n",
       "      <td>10</td>\n",
       "    </tr>\n",
       "  </tbody>\n",
       "</table>\n",
       "</div>"
      ],
      "text/plain": [
       "    0\n",
       "0   1\n",
       "1   2\n",
       "2   3\n",
       "3   4\n",
       "4   5\n",
       "5   6\n",
       "6   7\n",
       "7   8\n",
       "8   9\n",
       "9  10"
      ]
     },
     "execution_count": 3,
     "metadata": {},
     "output_type": "execute_result"
    }
   ],
   "source": [
    "import pandas as pd\n",
    "lst1= [1,2,3,4,5,6,7,8,9,10]\n",
    "df1=pd.DataFrame(lst1)\n",
    "df1"
   ]
  },
  {
   "cell_type": "markdown",
   "id": "2fc09c7a",
   "metadata": {},
   "source": [
    "## Question 3"
   ]
  },
  {
   "cell_type": "code",
   "execution_count": 12,
   "id": "b14bb70d",
   "metadata": {},
   "outputs": [
    {
     "data": {
      "text/html": [
       "<div>\n",
       "<style scoped>\n",
       "    .dataframe tbody tr th:only-of-type {\n",
       "        vertical-align: middle;\n",
       "    }\n",
       "\n",
       "    .dataframe tbody tr th {\n",
       "        vertical-align: top;\n",
       "    }\n",
       "\n",
       "    .dataframe thead th {\n",
       "        text-align: right;\n",
       "    }\n",
       "</style>\n",
       "<table border=\"1\" class=\"dataframe\">\n",
       "  <thead>\n",
       "    <tr style=\"text-align: right;\">\n",
       "      <th></th>\n",
       "      <th>Name</th>\n",
       "      <th>Age</th>\n",
       "      <th>Gender</th>\n",
       "    </tr>\n",
       "  </thead>\n",
       "  <tbody>\n",
       "    <tr>\n",
       "      <th>0</th>\n",
       "      <td>Alice</td>\n",
       "      <td>25</td>\n",
       "      <td>Female</td>\n",
       "    </tr>\n",
       "    <tr>\n",
       "      <th>1</th>\n",
       "      <td>Bob</td>\n",
       "      <td>30</td>\n",
       "      <td>Male</td>\n",
       "    </tr>\n",
       "    <tr>\n",
       "      <th>2</th>\n",
       "      <td>Claire</td>\n",
       "      <td>27</td>\n",
       "      <td>Female</td>\n",
       "    </tr>\n",
       "  </tbody>\n",
       "</table>\n",
       "</div>"
      ],
      "text/plain": [
       "     Name Age  Gender\n",
       "0   Alice  25  Female\n",
       "1     Bob  30    Male\n",
       "2  Claire  27  Female"
      ]
     },
     "execution_count": 12,
     "metadata": {},
     "output_type": "execute_result"
    }
   ],
   "source": [
    "lst1= [[\"Alice\",\"25\", \"Female\"],[\"Bob\",\"30\",\"Male\"],[\"Claire\", \"27\", \"Female\"]]\n",
    "lst3= [\"Name\",\"Age\",\"Gender\"]\n",
    "q3=pd.DataFrame(lst1, columns=lst3)\n",
    "q3\n",
    "\n",
    "# When we are using List of lists, Each list inside a list will constitute a row of a Data Frame"
   ]
  },
  {
   "cell_type": "markdown",
   "id": "fe3cc531",
   "metadata": {},
   "source": [
    "## Question 4:\n",
    "What is ‘DataFrame’ in pandas and how is it different from pandas.series? Explain with an example.\n"
   ]
  },
  {
   "cell_type": "markdown",
   "id": "57ade3fa",
   "metadata": {},
   "source": [
    "## Answer:\n",
    "Pandas DataFrame is two-dimensional size-mutable, potentially heterogeneous tabular data structure with labeled axes (rows and columns).\n",
    "\n",
    "Both DataFrame and series are the two main data structure of pandas library. Series in pandas contains a single list which can store heterogeneous type of data, because of this, series is also considered as a 1-dimensional data structure.\n",
    "\n",
    "On the other hand, DataFrame is a 2-dimensional data structure which contains multiple lists of heterogeneous type of data. DataFrame can contain multiple series or it can be considered as a collection of series\n",
    "\n",
    "In the Table created above whole q3 table is the data frame and each columns of Data Frame (example: Name/Age/ Gender) are series"
   ]
  },
  {
   "cell_type": "markdown",
   "id": "0ea5323b",
   "metadata": {},
   "source": [
    "## Question 5:\n",
    "What are some common functions you can use to manipulate data in a Pandas DataFrame? Can\n",
    "you give an example of when you might use one of these functions?\n"
   ]
  },
  {
   "cell_type": "markdown",
   "id": "1e023aed",
   "metadata": {},
   "source": [
    "## Answer:\n",
    "There are many functions in pandas that can be used to manipulate data in a DataFrame. Some of the common functions are:\n",
    "\n",
    "head(): Returns the first n rows of the DataFrame. By default, n=5.\n",
    "tail(): Returns the last n rows of the DataFrame. By default, n=5.\n",
    "describe(): Generates descriptive statistics that summarize the central tendency, dispersion and shape of a dataset’s distribution.\n",
    "drop(): Remove rows or columns by specifying label names and corresponding axis.\n",
    "sort_values(): Sorts a DataFrame in ascending or descending order based on one or more columns.\n",
    "\n",
    "For example, we might use the head() function to quickly view the first few rows of a large DataFrame to get an idea of what the data looks like. Or we might use the sort_values() function to sort a DataFrame by a specific column so that you can easily see which rows have the highest or lowest values for that column"
   ]
  },
  {
   "cell_type": "markdown",
   "id": "e6fcc2c4",
   "metadata": {},
   "source": [
    "## Question 6:\n",
    "Which of the following is mutable in nature: Series, DataFrame, Panel?\n",
    "\n",
    "## Answer:\n",
    "Series, Data Frame, Panel: all are commutable in nature\n"
   ]
  },
  {
   "cell_type": "markdown",
   "id": "af5579b9",
   "metadata": {},
   "source": [
    "## Question7:\n",
    "Create a DataFrame using multiple Series. Explain with an example.\n",
    "\n",
    "## Answer:\n",
    "\n",
    "In the example below, q7 Data Frame has 3 Series with names \"Item\", \"Amount\", \"Cost Per Kg or Litre\""
   ]
  },
  {
   "cell_type": "code",
   "execution_count": 14,
   "id": "417e384d",
   "metadata": {},
   "outputs": [
    {
     "data": {
      "text/html": [
       "<div>\n",
       "<style scoped>\n",
       "    .dataframe tbody tr th:only-of-type {\n",
       "        vertical-align: middle;\n",
       "    }\n",
       "\n",
       "    .dataframe tbody tr th {\n",
       "        vertical-align: top;\n",
       "    }\n",
       "\n",
       "    .dataframe thead th {\n",
       "        text-align: right;\n",
       "    }\n",
       "</style>\n",
       "<table border=\"1\" class=\"dataframe\">\n",
       "  <thead>\n",
       "    <tr style=\"text-align: right;\">\n",
       "      <th></th>\n",
       "      <th>Item</th>\n",
       "      <th>Amount</th>\n",
       "      <th>Cost per Kg or Litre</th>\n",
       "    </tr>\n",
       "  </thead>\n",
       "  <tbody>\n",
       "    <tr>\n",
       "      <th>0</th>\n",
       "      <td>Milk</td>\n",
       "      <td>25 Litre</td>\n",
       "      <td>50 Rupees</td>\n",
       "    </tr>\n",
       "    <tr>\n",
       "      <th>1</th>\n",
       "      <td>Tea Leaves</td>\n",
       "      <td>300 Gms</td>\n",
       "      <td>1500 Rupees</td>\n",
       "    </tr>\n",
       "    <tr>\n",
       "      <th>2</th>\n",
       "      <td>Rice</td>\n",
       "      <td>27 Kg</td>\n",
       "      <td>50 Rupees</td>\n",
       "    </tr>\n",
       "  </tbody>\n",
       "</table>\n",
       "</div>"
      ],
      "text/plain": [
       "         Item    Amount Cost per Kg or Litre\n",
       "0        Milk  25 Litre            50 Rupees\n",
       "1  Tea Leaves   300 Gms          1500 Rupees\n",
       "2        Rice     27 Kg            50 Rupees"
      ]
     },
     "execution_count": 14,
     "metadata": {},
     "output_type": "execute_result"
    }
   ],
   "source": [
    "lst1= [[\"Milk\",\"25 Litre\", \"50 Rupees\"],[\"Tea Leaves\",\"300 Gms\",\"1500 Rupees\"],[\"Rice\", \"27 Kg\", \"50 Rupees\"]]\n",
    "lst3= [\"Item\",\"Amount\",\"Cost per Kg or Litre\"]\n",
    "q7=pd.DataFrame(lst1, columns=lst3)\n",
    "q7"
   ]
  },
  {
   "cell_type": "code",
   "execution_count": null,
   "id": "c9359453",
   "metadata": {},
   "outputs": [],
   "source": []
  },
  {
   "cell_type": "code",
   "execution_count": null,
   "id": "6d0f2422",
   "metadata": {},
   "outputs": [],
   "source": []
  },
  {
   "cell_type": "code",
   "execution_count": null,
   "id": "4b026919",
   "metadata": {},
   "outputs": [],
   "source": []
  }
 ],
 "metadata": {
  "kernelspec": {
   "display_name": "Python 3 (ipykernel)",
   "language": "python",
   "name": "python3"
  },
  "language_info": {
   "codemirror_mode": {
    "name": "ipython",
    "version": 3
   },
   "file_extension": ".py",
   "mimetype": "text/x-python",
   "name": "python",
   "nbconvert_exporter": "python",
   "pygments_lexer": "ipython3",
   "version": "3.9.12"
  }
 },
 "nbformat": 4,
 "nbformat_minor": 5
}
