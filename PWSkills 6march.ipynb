{
 "cells": [
  {
   "cell_type": "markdown",
   "id": "2ef59e77",
   "metadata": {},
   "source": [
    "# PW Skills Statistics Basic 1 Assignment"
   ]
  },
  {
   "cell_type": "markdown",
   "id": "3eb34fd6",
   "metadata": {},
   "source": [
    "## Question 1: \n",
    "What is Statistics?\n",
    "## Answer: \n",
    "Statistics is the science of collecting, organising and larning form data."
   ]
  },
  {
   "cell_type": "markdown",
   "id": "a025c956",
   "metadata": {},
   "source": [
    "## Question 2: \n",
    "Define the different types of statistics and give an example of when each type might be used.\n",
    "\n",
    "## Answer: \n",
    "Statistics have majorly categorised into two types: 1.Descriptive statistics 2.Inferential statistics\n",
    "1. Descriptive Statistics:\n",
    "Descriptive statistics is a way to organise, represent and describe a collection of data using tables, graphs, and summary measures. For example, the collection of people in a city using the internet or using Television.\n",
    "2. Inferential statistics:\n",
    "This type of statistics is used to interpret the meaning of Descriptive statistics. That means once the data has been collected, analysed and summarised then we use these stats to describe the meaning of the collected data. Or we can say, it is used to draw conclusions from the data that depends on random variations such as observational errors, sampling variation, etc.\n",
    "For example, drawing conclusion about economic conditions adn buying habbits of habitants of the city based on their usage of TV and Internet. "
   ]
  },
  {
   "cell_type": "markdown",
   "id": "02b63a80",
   "metadata": {},
   "source": [
    "## Question 3:\n",
    "What are the different types of data and how do they differ from each other? Provide an example of each type of data.\n",
    "## Answer:\n",
    "The data is classified into two catagories and four Total sub-categories:\n",
    "Two Data-types are:\n",
    "<u>1.Qualitative Data and 2. Quantitative Data</u> \n",
    "\n",
    "<u> Qualitative Data </u> are two types:\n",
    "\n",
    "1. Nominal data.: \n",
    "                 Nominal Data is used to label variables or identify  harestics of an observation without any order or        quantitative value.\n",
    "                 \n",
    "2. Ordinal data: \n",
    "                Ordinal data have natural ordering where a number is present in some kind of order by their position on the scale. the order or rank of the data is meaningful but we can not perform arithmatic on this type of data. example: When companies ask for feedback, experience, or satisfaction on a scale of 1 to 10.\n",
    "   \n",
    "<u>Quantitative Data</u> are two types:\n",
    "\n",
    "1. Discrete data: \n",
    "                The term discrete means distinct or separate. The discrete data contain the values that fall under integers or whole numbers.The discrete data are countable and have finite values; their subdivision is not possible. These data are represented mainly by a bar graph, number line, or frequency table. Exampel: The total number of students in a class is an example of discrete data. These data can’t be broken into decimal or fraction values. \n",
    "                    Discrete data is also knwn as Interval data\n",
    "\n",
    "\n",
    "2. Continuous data: \n",
    "                   Also known as ration data, continuous data are in the form of fractional numbers. It can be the version of an android phone, the height of a person, the length of an object, etc. Continuous data represents information that can be divided into smaller levels. The continuous variable can take any value within a range\n",
    "\n",
    "\n",
    " \n",
    " \n",
    " ."
   ]
  },
  {
   "cell_type": "markdown",
   "id": "b0e63822",
   "metadata": {},
   "source": [
    "Question 4:Categorise the following datasets with respect to quantitative and qualitative data types:\n",
    "(i) Grading in exam: A+, A, B+, B, C+, C, D, E: \n",
    "(ii) Colour of mangoes: yellow, green, orange, red\n",
    "(iii) Height data of a class: [178.9, 179, 179.5, 176, 177.2, 178.3, 175.8,...]\n",
    "(iv) Number of mangoes exported by a farm: [500, 600, 478, 672, ...]\n",
    "## Answers:\n",
    "\n",
    "(i)Ordinal\n",
    "(ii)Nominal\n",
    "(iii)Ratio\n",
    "(iv) Interval"
   ]
  },
  {
   "cell_type": "markdown",
   "id": "53253867",
   "metadata": {},
   "source": [
    "## Question 5:\n",
    "Explain the concept of levels of measurement and give an example of a variable for each level.\n",
    "\n",
    "## Answer:\n",
    "Level of Measurement: Level of measurement or scale of measure is a classification that describes the nature of information within the values assigned to variables\n",
    "\n",
    "There are 4 levels of measurement:\n",
    "\n",
    "1. Nominal: the data can only be categorized. example: Gender: Male/Female, Colour of hair: Black, Grey, White.\n",
    "2. Ordinal: the data can be categorized and ranked. Example: Review of food in a restaurant: Bad, Satisfactory, Good.\n",
    "3. Interval: the data can be categorized, ranked, and evenly spaced.Example: Grades in an exam 1,2,3,......4 in 4 point grading system.\n",
    "4. Ratio: the data can be categorized, ranked, evenly spaced, and has a natural zero. Percentage of marks students got in an exam.\n"
   ]
  },
  {
   "cell_type": "markdown",
   "id": "b3f9c442",
   "metadata": {},
   "source": [
    "## Question 6: \n",
    "Why is it important to understand the level of measurement when analyzing data? Provide an\n",
    "example to illustrate your answer.\n",
    "## Answer:\n",
    "            Knowing the level of measurement of your variables is important for two reasons.  Each of the levels of measurement provides a different level of detail.  Nominal provides the least amount of detail, ordinal provides the next highest amount of detail, and interval and ratio provide the most amount of detail in QUALITAITVE FORMAT.\n",
    "           The second reason levels of measurement are important to know is because different statistical tests are appropriate for variables with different levels of measurement. "
   ]
  },
  {
   "cell_type": "markdown",
   "id": "a759f6f4",
   "metadata": {},
   "source": [
    "## Question 7: \n",
    "How nominal data type is different from ordinal data type.\n",
    "## Answer:\n",
    "Nominal data only has category that can not be ranked or compared with respect to other data in the dataset. In Ordinal data we can categorise rank and compare one data with respect to other in the dataset."
   ]
  },
  {
   "cell_type": "markdown",
   "id": "f5257c01",
   "metadata": {},
   "source": [
    "## Question 8: \n",
    "Which type of plot can be used to display data in terms of range?\n",
    "## Answer:\n",
    "Ratio/Continuous data  display data in terms of range"
   ]
  },
  {
   "cell_type": "markdown",
   "id": "4d14ffeb",
   "metadata": {},
   "source": [
    "## Question 9: \n",
    "Describe the difference between descriptive and inferential statistics. Give an example of each type of statistics and explain how they are used.\n",
    "## Answer:\n",
    "1. Purpose of Use: While descriptive statistics describe data, inferential statistics allows you to make predictions from data. Professionals often use descriptive statistics to communicate simple trends within a data set. For example, you work for a television station and want to understand your viewers better. You could learn the median age of viewers at noon on weekdays and the range of viewers' ages to know if any children or teenagers watch during this time. Descriptive statistics may help you summarize your findings for advertisers and communicate them in a digestible way.Inferential statistics, contrastingly, might be more useful when you want to expand your understanding of a large population. It can be especially helpful if you have limited access to the data. For example, you're marketing for a clothing manufacturer who wants to target office workers in the Northeast United States. You might hold a focus group with a representative sample of office workers who live in the Northeast. Using their answers, you might be able to make greater generalizations about this group's needs, wants and interests.\n",
    "\n",
    "2. Level of certainty: Descriptive statistics only measure the group you assign for the experiment, so these findings typically ignore variables. Inferential statistics account for sampling errors, which may lead to additional tests on a larger or different population. You're typically more likely to get a definitive calculation with descriptive statistics. Inferential statistics typically provides a data-backed hypothesis with some margin of error.\n",
    "\n",
    "3. Results: The results of descriptive statistics usually come as numerical figures. Many professionals interpret and visualize these findings using graphs, tables and charts. Inferential statistics typically results in probabilities, which you may communicate as a percentage. This is because inferential statistics predict future behavior based on factual data."
   ]
  },
  {
   "cell_type": "markdown",
   "id": "8cb426bd",
   "metadata": {},
   "source": [
    "## Question 10: \n",
    "What are some common measures of central tendency and variability used in statistics? Explain\n",
    "how each measure can be used to describe a dataset.\n",
    "\n",
    "## Answer:\n",
    "Measures of central tendency help you find the middle, or the average, of a dataset. The 3 most common measures of central tendency are the mode, median, and mean.\n",
    "\n",
    "1. Mode: the most frequent value. The mode is most applicable to data from a nominal level of measurement. Nominal data is classified into mutually exclusive categories, so the mode tells you the most popular category.\n",
    "\n",
    "    For continuous variables or ratio levels of measurement, the mode may not be a helpful measure of central tendency. That’s because there are many more possible values than there are in a nominal or ordinal level of measurement. It’s unlikely for a value to repeat in a ratio level of measurement.\n",
    "2. Median: the middle number in an ordered dataset. The median can only be used on data that can be ordered – that is, from ordinal, interval and ratio levels of measurement.\n",
    "3. Mean: the sum of all values divided by the total number of values.The mean can only be used on interval and ratio levels of measurement because it requires equal spacing between adjacent values or scores in the scale."
   ]
  }
 ],
 "metadata": {
  "kernelspec": {
   "display_name": "Python 3 (ipykernel)",
   "language": "python",
   "name": "python3"
  },
  "language_info": {
   "codemirror_mode": {
    "name": "ipython",
    "version": 3
   },
   "file_extension": ".py",
   "mimetype": "text/x-python",
   "name": "python",
   "nbconvert_exporter": "python",
   "pygments_lexer": "ipython3",
   "version": "3.9.12"
  }
 },
 "nbformat": 4,
 "nbformat_minor": 5
}
